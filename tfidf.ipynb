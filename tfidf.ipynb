{
 "cells": [
  {
   "cell_type": "code",
   "execution_count": 6,
   "metadata": {},
   "outputs": [
    {
     "name": "stdout",
     "output_type": "stream",
     "text": [
      "Imported\n"
     ]
    }
   ],
   "source": [
    "from sklearn.feature_extraction.text import TfidfVectorizer\n",
    "from nltk.tokenize import word_tokenize\n",
    "print(\"Imported\")"
   ]
  },
  {
   "cell_type": "code",
   "execution_count": 7,
   "metadata": {},
   "outputs": [],
   "source": [
    "doc1='My name is Samvit'\n",
    "doc2='Samvit is in web mining class'\n",
    "doc3='This is web mining da-6'\n",
    "docs=[doc1,doc2,doc3]"
   ]
  },
  {
   "cell_type": "code",
   "execution_count": 8,
   "metadata": {},
   "outputs": [
    {
     "name": "stdout",
     "output_type": "stream",
     "text": [
      "\n",
      "Word indexes:\n",
      "{'my': 5, 'name': 6, 'is': 3, 'samvit': 7, 'in': 2, 'web': 9, 'mining': 4, 'class': 0, 'this': 8, 'da': 1}\n",
      "\n",
      "tf-idf values:\n",
      "  (0, 7)\t0.444514311537431\n",
      "  (0, 3)\t0.34520501686496574\n",
      "  (0, 6)\t0.5844829010200651\n",
      "  (0, 5)\t0.5844829010200651\n",
      "  (1, 0)\t0.49482970636510465\n",
      "  (1, 4)\t0.37633074615060896\n",
      "  (1, 9)\t0.37633074615060896\n",
      "  (1, 2)\t0.49482970636510465\n",
      "  (1, 7)\t0.37633074615060896\n",
      "  (1, 3)\t0.29225439586501756\n",
      "  (2, 1)\t0.5340933749435834\n",
      "  (2, 8)\t0.5340933749435834\n",
      "  (2, 4)\t0.4061917781433947\n",
      "  (2, 9)\t0.4061917781433947\n",
      "  (2, 3)\t0.31544415103177975\n"
     ]
    }
   ],
   "source": [
    "v=TfidfVectorizer()\n",
    "x=v.fit_transform(docs)\n",
    "print('\\nWord indexes:')\n",
    "print(v.vocabulary_)\n",
    "print('\\ntf-idf values:')\n",
    "print(x)"
   ]
  },
  {
   "cell_type": "code",
   "execution_count": 9,
   "metadata": {},
   "outputs": [
    {
     "name": "stdout",
     "output_type": "stream",
     "text": [
      "\n",
      "Jaccard Similarity:\n",
      "between doc1 and doc2: 0.277778\n",
      "between doc2 and doc3: 0.238095\n",
      "between doc1 and doc3: 0.212121\n"
     ]
    }
   ],
   "source": [
    "def jaccard(list1, list2):\n",
    "    intersection = len(list(set(list1).intersection(list2)))\n",
    "    union = (len(list1) + len(list2)) - intersection\n",
    "    return float(intersection) / union\n",
    "print('\\nJaccard Similarity:')\n",
    "print('between doc1 and doc2: %f' %jaccard(doc1,doc2))\n",
    "print('between doc2 and doc3: %f' %jaccard(doc2,doc3))\n",
    "print('between doc1 and doc3: %f' %jaccard(doc1,doc3))"
   ]
  },
  {
   "cell_type": "code",
   "execution_count": 10,
   "metadata": {},
   "outputs": [
    {
     "name": "stdout",
     "output_type": "stream",
     "text": [
      "\n",
      "Cosine Similarity:\n",
      "between doc1 and doc2: 0.408248\n",
      "between doc2 and doc3: 0.547723\n",
      "between doc1 and doc3: 0.223607\n"
     ]
    }
   ],
   "source": [
    "def cosine(list1,list2):\n",
    "    X_list = word_tokenize(list1)\n",
    "    Y_list = word_tokenize(list2)\n",
    "    l1 =[];l2 =[]\n",
    "    X_set=set(X_list)\n",
    "    Y_set=set(Y_list)\n",
    "    rvector = X_set.union(Y_set)\n",
    "    for w in rvector:\n",
    "        if w in X_set: l1.append(1) # create a vector\n",
    "        else: l1.append(0)\n",
    "        if w in Y_set: l2.append(1)\n",
    "        else: l2.append(0)\n",
    "    c = 0\n",
    "\n",
    "    for i in range(len(rvector)):\n",
    "        c+= l1[i]*l2[i]\n",
    "    cos = c / float((sum(l1)*sum(l2))**0.5)\n",
    "    return cos\n",
    "print('\\nCosine Similarity:')\n",
    "print('between doc1 and doc2: %f' %cosine(doc1,doc2))\n",
    "print('between doc2 and doc3: %f' %cosine(doc2,doc3))\n",
    "print('between doc1 and doc3: %f' %cosine(doc1,doc3))"
   ]
  }
 ],
 "metadata": {
  "interpreter": {
   "hash": "07efdcd4b820c98a756949507a4d29d7862823915ec7477944641bea022f4f62"
  },
  "kernelspec": {
   "display_name": "Python 3.9.7 ('base')",
   "language": "python",
   "name": "python3"
  },
  "language_info": {
   "codemirror_mode": {
    "name": "ipython",
    "version": 3
   },
   "file_extension": ".py",
   "mimetype": "text/x-python",
   "name": "python",
   "nbconvert_exporter": "python",
   "pygments_lexer": "ipython3",
   "version": "3.9.7"
  },
  "orig_nbformat": 4
 },
 "nbformat": 4,
 "nbformat_minor": 2
}
